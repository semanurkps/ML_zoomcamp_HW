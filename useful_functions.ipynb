{
 "cells": [
  {
   "cell_type": "markdown",
   "metadata": {},
   "source": [
    "# Some Useful Pieces of Code"
   ]
  },
  {
   "cell_type": "markdown",
   "metadata": {},
   "source": [
    "## For detecting nulls and their percentages in the dataset"
   ]
  },
  {
   "cell_type": "code",
   "execution_count": null,
   "metadata": {},
   "outputs": [],
   "source": [
    "def null_perc(x):\n",
    "    \"\"\"\n",
    "    Takes a dataframe and calculates the percentage of missing values when compared to total. \n",
    "    Returns missing value report as a dataframe\n",
    "    \"\"\"\n",
    "    null_sum = x.isnull().sum()\n",
    "    null_perc = round(x.isnull().sum()/x.shape[0],3)*100\n",
    "    \n",
    "    df = pd.DataFrame(pd.concat( [null_sum, null_perc], axis = 1))\n",
    "    df.rename(columns = {0 : \"Number of Missing Values\", 1 : \"% of Total\"}, inplace = True)\n",
    "    null_df = df[df[\"Number of Missing Values\"]>0].sort_values(by = \"% of Total\", ascending = False)\n",
    "    \n",
    "    print(\"Number of columns in your dataframe: \" + str(x.shape[1]))\n",
    "    print(\"Number of columns containing missing values: \" + str(null_df.shape[0]))\n",
    "    print(\"===\"*10)\n",
    "    \n",
    "    return null_df"
   ]
  },
  {
   "cell_type": "markdown",
   "metadata": {},
   "source": [
    "## For peeking into unique values of all columns in the dataset"
   ]
  },
  {
   "cell_type": "code",
   "execution_count": null,
   "metadata": {},
   "outputs": [],
   "source": [
    "def unique(x):\n",
    "    \"\"\"\n",
    "    Takes a dataframe and calulates the\n",
    "    \"\"\"\n",
    "    for col in x.cols:\n",
    "        print(col)\n",
    "        print(df[col].value_counts()[:5])\n",
    "        print(df[col].nunique())"
   ]
  }
 ],
 "metadata": {
  "kernelspec": {
   "display_name": "Python 3",
   "language": "python",
   "name": "python3"
  },
  "language_info": {
   "name": ""
  }
 },
 "nbformat": 4,
 "nbformat_minor": 4
}
